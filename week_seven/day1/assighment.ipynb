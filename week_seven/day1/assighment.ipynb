{
 "cells": [
  {
   "attachments": {},
   "cell_type": "markdown",
   "metadata": {},
   "source": [
    "# Search for a bot\n",
    "\n",
    "## Instructions\n",
    "\n",
    "Bots are everywhere. Your assignment: find one and adopt it! You can find them on web sites, in banking applications, and on the phone, for example when you call financial services companies for advice or account information. Analyze the bot and see if you can confuse it. If you can confuse the bot, why do you think that happened? Write a short paper about your experience.\n",
    "\n",
    "## Rubric\n",
    "\n",
    "| Criteria | Exemplary                                                                                                     | Adequate                                     | Needs Improvement     |\n",
    "| -------- | ------------------------------------------------------------------------------------------------------------- | -------------------------------------------- | --------------------- |\n",
    "|          | A full  page paper is written, explaining the presumed bot architecture and outlining your experience with it | A paper is incomplete or not well researched | No paper is submitted |\n"
   ]
  },
  {
   "cell_type": "code",
   "execution_count": 1,
   "metadata": {},
   "outputs": [
    {
     "name": "stdout",
     "output_type": "stream",
     "text": [
      "Hello, I am Ishaq, the simple robot.\n",
      "You can end this conversation at any time by typing 'bye'.\n",
      "Why do you say that?\n",
      "Why do you say that?\n",
      "I see. Do go on.\n",
      "Funny weather we've been having, isn't it?\n",
      "Why do you say that?\n",
      "I see. Do go on.\n",
      "Did you catch the game last night?\n"
     ]
    }
   ],
   "source": [
    "import random\n",
    "\n",
    "random_responses = [\n",
    "    \"That is quite interesting, please tell me more.\",\n",
    "    \"I see. Do go on.\",\n",
    "    \"Why do you say that?\",\n",
    "    \"Funny weather we've been having, isn't it?\",\n",
    "    \"Let's change the subject.\",\n",
    "    \"Did you catch the game last night?\"\n",
    "]\n",
    "\n",
    "print(\"Hello, I am Ishaq, the simple robot.\")\n",
    "print(\"You can end this conversation at any time by typing 'bye'.\")\n",
    "\n",
    "while True:\n",
    "    user_input = input(\"> \")\n",
    "    print(user_input)\n",
    "    if user_input.lower() == 'bye':\n",
    "        print(\"Goodbye! Have a great day!\")\n",
    "        break\n",
    "    else:\n",
    "        random_response = random.choice(random_responses)\n",
    "        print(random_response)"
   ]
  }
 ],
 "metadata": {
  "kernelspec": {
   "display_name": "base",
   "language": "python",
   "name": "python3"
  },
  "language_info": {
   "codemirror_mode": {
    "name": "ipython",
    "version": 3
   },
   "file_extension": ".py",
   "mimetype": "text/x-python",
   "name": "python",
   "nbconvert_exporter": "python",
   "pygments_lexer": "ipython3",
   "version": "3.8.5"
  },
  "orig_nbformat": 4
 },
 "nbformat": 4,
 "nbformat_minor": 2
}
