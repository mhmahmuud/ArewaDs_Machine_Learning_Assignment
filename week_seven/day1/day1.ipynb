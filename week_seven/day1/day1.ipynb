{
 "cells": [
  {
   "attachments": {},
   "cell_type": "markdown",
   "metadata": {},
   "source": [
    "### The plan\n",
    "\n",
    "Your steps when building a conversational bot:\n",
    "\n",
    "1. Print instructions advising the user how to interact with the bot\n",
    "2. Start a loop\n",
    "   1. Accept user input\n",
    "   2. If user has asked to exit, then exit\n",
    "   3. Process user input and determine response (in this case, the response is a random choice from a list of possible generic responses)\n",
    "   4. Print response\n",
    "3. loop back to step 2"
   ]
  },
  {
   "cell_type": "code",
   "execution_count": 14,
   "metadata": {},
   "outputs": [
    {
     "name": "stdout",
     "output_type": "stream",
     "text": [
      "thankyou\n"
     ]
    }
   ],
   "source": [
    "random_responses = [\"That is quite interesting, please tell me more.\",\n",
    "                    \"I see. Do go on.\",\n",
    "                    \"Why do you say that?\",\n",
    "                    \"Funny weather we've been having, isn't it?\",\n",
    "                    \"Let's change the subject.\",\n",
    "                    \"Did you catch the game last night?\"]\n",
    "\n",
    "print(input(\"Hello, I am Ishaq, the simple robot. \\nYou can end this conversation at any time by typing 'bye' \\nAfter typing each answer, press 'enter' \\nHow are you today?\"))\n",
    "\n",
    "\n",
    "\n"
   ]
  },
  {
   "cell_type": "code",
   "execution_count": 19,
   "metadata": {},
   "outputs": [
    {
     "name": "stdout",
     "output_type": "stream",
     "text": [
      "Hi\n",
      "Why do you say that?\n",
      "\n",
      "Did you catch the game last night?\n",
      "nop i was busy coding\n",
      "Why do you say that?\n",
      "well am bored\n",
      "Let's change the subject.\n",
      "well am bored\n",
      "Why do you say that?\n",
      "just testing ur patience\n",
      "Did you catch the game last night?\n",
      "well i guess i have explain myself \n",
      "Why do you say that?\n",
      "bye\n"
     ]
    }
   ],
   "source": [
    "import random\n",
    "x = \"\"\n",
    "while x != 'bye':\n",
    "    reply = input(\">\")\n",
    "    print(reply)\n",
    "    if reply == 'bye':\n",
    "        x = reply\n",
    "    else:\n",
    "        print(random_responses[random.randint(1, 5)])"
   ]
  },
  {
   "cell_type": "code",
   "execution_count": 13,
   "metadata": {},
   "outputs": [
    {
     "name": "stdout",
     "output_type": "stream",
     "text": [
      "5\n"
     ]
    }
   ],
   "source": [
    "print(random.randint(1, 5))"
   ]
  }
 ],
 "metadata": {
  "kernelspec": {
   "display_name": "base",
   "language": "python",
   "name": "python3"
  },
  "language_info": {
   "codemirror_mode": {
    "name": "ipython",
    "version": 3
   },
   "file_extension": ".py",
   "mimetype": "text/x-python",
   "name": "python",
   "nbconvert_exporter": "python",
   "pygments_lexer": "ipython3",
   "version": "3.8.5"
  },
  "orig_nbformat": 4
 },
 "nbformat": 4,
 "nbformat_minor": 2
}
