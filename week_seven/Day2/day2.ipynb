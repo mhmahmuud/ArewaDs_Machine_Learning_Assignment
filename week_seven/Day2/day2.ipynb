{
 "cells": [
  {
   "attachments": {},
   "cell_type": "markdown",
   "metadata": {},
   "source": [
    "## Day2: Common natural language processing tasks and techniques"
   ]
  },
  {
   "cell_type": "code",
   "execution_count": 2,
   "metadata": {},
   "outputs": [],
   "source": [
    "from textblob import TextBlob\n",
    "from textblob.np_extractors import ConllExtractor"
   ]
  },
  {
   "cell_type": "code",
   "execution_count": 3,
   "metadata": {},
   "outputs": [],
   "source": [
    "extractor = ConllExtractor()"
   ]
  },
  {
   "cell_type": "code",
   "execution_count": 7,
   "metadata": {},
   "outputs": [
    {
     "name": "stdout",
     "output_type": "stream",
     "text": [
      "[]\n"
     ]
    }
   ],
   "source": [
    "# later when you need a noun phrase extractor:\n",
    "user_input = input(\"> \")\n",
    "user_input_blob = TextBlob(user_input, np_extractor=extractor)  # note non-default extractor specified\n",
    "np = user_input_blob.noun_phrases   \n",
    "\n",
    "print(np)"
   ]
  },
  {
   "cell_type": "code",
   "execution_count": 9,
   "metadata": {},
   "outputs": [
    {
     "name": "stdout",
     "output_type": "stream",
     "text": [
      "Hello, I am Ishaq, the simple robot.\n",
      "You can end this conversation at any time by typing 'bye'.\n",
      "Hmm, that's not great. Can you tell more\n"
     ]
    }
   ],
   "source": [
    "print(\"Hello, I am Ishaq, the simple robot.\")\n",
    "print(\"You can end this conversation at any time by typing 'bye'.\")\n",
    "\n",
    "while True:\n",
    "    user_input = input(\"> \")\n",
    "    user_input_blob = TextBlob(user_input)\n",
    "    if user_input.lower() == 'bye':\n",
    "        print(\"Goodbye! Have a great day!\")\n",
    "        break\n",
    "    elif user_input_blob.polarity <= -0.5:\n",
    "        response = \"Oh dear, that sounds bad. \"\n",
    "        print(response)\n",
    "\n",
    "    elif user_input_blob.polarity <= 0:\n",
    "        response = \"Hmm, that's not great. Can you tell more\"\n",
    "        print(response)\n",
    "\n",
    "    elif user_input_blob.polarity <= 0.5:\n",
    "        response = \"Well, that sounds positive. \"\n",
    "        print(response)\n",
    "\n",
    "    elif user_input_blob.polarity <= 1:\n",
    "        response = \"Wow, that sounds great. \"\n",
    "        print(response)\n",
    "    \n",
    "    "
   ]
  },
  {
   "cell_type": "code",
   "execution_count": null,
   "metadata": {},
   "outputs": [],
   "source": [
    "if user_input_blob.polarity <= -0.5:\n",
    "  response = \"Oh dear, that sounds bad. \"\n",
    "elif user_input_blob.polarity <= 0:\n",
    "  response = \"Hmm, that's not great. \"\n",
    "elif user_input_blob.polarity <= 0.5:\n",
    "  response = \"Well, that sounds positive. \"\n",
    "elif user_input_blob.polarity <= 1:\n",
    "  response = \"Wow, that sounds great. \""
   ]
  }
 ],
 "metadata": {
  "kernelspec": {
   "display_name": "base",
   "language": "python",
   "name": "python3"
  },
  "language_info": {
   "codemirror_mode": {
    "name": "ipython",
    "version": 3
   },
   "file_extension": ".py",
   "mimetype": "text/x-python",
   "name": "python",
   "nbconvert_exporter": "python",
   "pygments_lexer": "ipython3",
   "version": "3.8.5"
  },
  "orig_nbformat": 4
 },
 "nbformat": 4,
 "nbformat_minor": 2
}
