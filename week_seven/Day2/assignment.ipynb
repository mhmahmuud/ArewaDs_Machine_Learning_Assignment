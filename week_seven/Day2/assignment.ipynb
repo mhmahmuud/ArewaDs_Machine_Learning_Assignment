{
 "cells": [
  {
   "attachments": {},
   "cell_type": "markdown",
   "metadata": {},
   "source": [
    "# Make a Bot talk back\n",
    "\n",
    "## Instructions\n",
    "\n",
    "In the past few lessons, you programmed a basic bot with whom to chat. This bot gives random answers until you say 'bye'. Can you make the answers a little less random, and trigger answers if you say specific things, like 'why' or 'how'? Think a bit how machine learning might make this type of work less manual as you extend your bot. You can use NLTK or TextBlob libraries to make your tasks easier.\n",
    "\n",
    "## Rubric\n",
    "\n",
    "| Criteria | Exemplary                                     | Adequate                                         | Needs Improvement       |\n",
    "| -------- | --------------------------------------------- | ------------------------------------------------ | ----------------------- |\n",
    "|          | A new bot.py file is presented and documented | A new bot file is presented but it contains bugs | A file is not presented |\n"
   ]
  },
  {
   "cell_type": "code",
   "execution_count": 2,
   "metadata": {},
   "outputs": [
    {
     "name": "stdout",
     "output_type": "stream",
     "text": [
      "Hello, I am Ishaq, the simple robot.\n",
      "You can end this conversation at any time by typing 'bye'.\n",
      "Hmm, that's not great. Can you tell more\n",
      "Hmm, that's not great. Can you tell more\n",
      "Hmm, that's not great. Can you tell more\n",
      "Well, that sounds positive. \n",
      "Wow, that sounds great. \n",
      "Well, that sounds positive. \n",
      "Oh dear, that sounds bad. \n",
      "Goodbye! Have a great day!\n"
     ]
    }
   ],
   "source": [
    "from textblob import TextBlob\n",
    "print(\"Hello, I am Ishaq, the simple robot.\")\n",
    "print(\"You can end this conversation at any time by typing 'bye'.\")\n",
    "\n",
    "while True:\n",
    "    user_input = input(\"> \")\n",
    "    user_input_blob = TextBlob(user_input)\n",
    "    if user_input.lower() == 'bye':\n",
    "        print(\"Goodbye! Have a great day!\")\n",
    "        break\n",
    "    elif user_input_blob.polarity <= -0.5:\n",
    "        response = \"Oh dear, that sounds bad. \"\n",
    "        print(response)\n",
    "\n",
    "    elif user_input_blob.polarity <= 0:\n",
    "        response = \"Hmm, that's not great. Can you tell more\"\n",
    "        print(response)\n",
    "\n",
    "    elif user_input_blob.polarity <= 0.5:\n",
    "        response = \"Well, that sounds positive. \"\n",
    "        print(response)\n",
    "\n",
    "    elif user_input_blob.polarity <= 1:\n",
    "        response = \"Wow, that sounds great. \"\n",
    "        print(response)\n",
    "    \n",
    "    "
   ]
  }
 ],
 "metadata": {
  "kernelspec": {
   "display_name": "base",
   "language": "python",
   "name": "python3"
  },
  "language_info": {
   "codemirror_mode": {
    "name": "ipython",
    "version": 3
   },
   "file_extension": ".py",
   "mimetype": "text/x-python",
   "name": "python",
   "nbconvert_exporter": "python",
   "pygments_lexer": "ipython3",
   "version": "3.8.5"
  },
  "orig_nbformat": 4
 },
 "nbformat": 4,
 "nbformat_minor": 2
}
