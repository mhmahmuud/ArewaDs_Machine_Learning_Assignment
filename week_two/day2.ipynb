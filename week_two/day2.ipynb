{
 "cells": [
  {
   "attachments": {},
   "cell_type": "markdown",
   "metadata": {},
   "source": [
    "**Soda Profits**\n",
    "\n",
    "Instructions\n",
    "\n",
    "The Coca Cola Co spreadsheet is missing some calculations. Your task is to:\n",
    "\n",
    "1. Calculate the Gross profits of FY '15, '16, '17, and '18\n",
    "   - Gross Profit = Net Operating revenues - Cost of goods sold\n",
    "2. Calculate the average of all the gross profits. Try to do this with a function.\n",
    "   - Average = Sum of gross profits divided by the number of fiscal years (10)\n",
    "   - Documentation on the AVERAGE function\n",
    "3. This is an Excel file, but it should be editable in any spreadsheet platform"
   ]
  },
  {
   "attachments": {},
   "cell_type": "markdown",
   "metadata": {},
   "source": [
    "The soluntion is in *\"CocaColaCo.xlsx\"* file.\n",
    "1. Gross Product of  \n",
    "    - fiscal yield '15': =I4-I5\n",
    "    - fiscal yield '16': =J4-J5  \n",
    "    - fiscal yield '17': =K4-K5\n",
    "    - fiscal yield '18': =L4-L5\n",
    "2. To get the average use =SUM(C6:L6)/10 OR =SUM(C6,D6,E6,F6,G6,H6,I6,J6,K6,L6)/10"
   ]
  }
 ],
 "metadata": {
  "language_info": {
   "name": "python"
  },
  "orig_nbformat": 4
 },
 "nbformat": 4,
 "nbformat_minor": 2
}
